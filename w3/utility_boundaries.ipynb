{
 "cells": [
  {
   "cell_type": "code",
   "execution_count": null,
   "id": "6571b13a",
   "metadata": {},
   "outputs": [],
   "source": [
    "%matplotlib inline\n",
    "import matplotlib.pyplot as plt\n",
    "import numpy as np"
   ]
  },
  {
   "cell_type": "code",
   "execution_count": null,
   "id": "1dd4ced6",
   "metadata": {},
   "outputs": [],
   "source": [
    "\n",
    "def flee(hp, dist):\n",
    "    return (100 - hp) * 5 - 50 * dist  + np.random.randn() * 0\n",
    "\n",
    "def attack(hp, dist):\n",
    "    return 100 - 10 * dist  + np.random.randn() * 0\n",
    "\n",
    "def patchup(hp, dist):\n",
    "    return 140 - hp  + np.random.randn() * 0\n",
    "\n",
    "def patrol(hp, dist):\n",
    "    return 50  + np.random.randn() * 0 \n",
    "\n",
    "\n",
    "HP = np.arange(0, 100, 0.25)\n",
    "DIST = np.arange(0, 10, 0.025)\n",
    "img = np.zeros((HP.shape[0], DIST.shape[0]))\n",
    "ht = np.zeros((4, HP.shape[0], DIST.shape[0]))\n",
    "# TODO: Vectorize\n",
    "for x, hp in enumerate(HP):\n",
    "    for y, ds in enumerate(DIST):\n",
    "        utility = np.array([flee(hp, ds), attack(hp, ds), patchup(hp, ds), patrol(hp, ds)])\n",
    "        for i in range(utility.shape[0]):\n",
    "            ht[i][x][y] = utility[i]\n",
    "        img[x][y] = np.argmax(utility)\n",
    "\n",
    "\n",
    "fig, ax = plt.subplots()\n",
    "im = ax.imshow(img, extent=[0, 10, 100, 0])\n",
    "ax.set_aspect('auto')\n",
    "ax.set_xlabel(\"dist\")\n",
    "ax.set_ylabel(\"hp\")\n",
    "\n",
    "\n",
    "plt.colorbar(im)\n",
    "\n",
    "fig, ax = plt.subplots(2, 2)\n",
    "for i in range(4):\n",
    "    im = ax[i %2, i // 2].imshow(ht[i], extent=[0, 10, 100, 0], cmap='Greys')\n",
    "    ax[i %2, i // 2].set_aspect('auto')\n",
    "    ax[i %2, i // 2].set_xlabel(\"dist\")\n",
    "    ax[i %2, i // 2].set_ylabel(\"hp\")\n",
    "    plt.colorbar(im)"
   ]
  },
  {
   "cell_type": "code",
   "execution_count": null,
   "id": "fd4cd61a",
   "metadata": {},
   "outputs": [],
   "source": [
    "X = np.arange(0, 1, 0.01)\n",
    "plt.plot(X, (X ** 0.5) * 0.8)\n",
    "plt.plot(X, X)\n",
    "plt.plot(X, 1 / (1 + np.exp(-(X * 10 - 5))))\n",
    "plt.plot(X, 1 - X ** 2)\n",
    "plt.plot(X, -2 * X ** 3 + 3 * X ** 2)"
   ]
  },
  {
   "cell_type": "code",
   "execution_count": null,
   "id": "36c8ec0e",
   "metadata": {},
   "outputs": [],
   "source": []
  }
 ],
 "metadata": {
  "kernelspec": {
   "display_name": "Python 3 (ipykernel)",
   "language": "python",
   "name": "python3"
  },
  "language_info": {
   "codemirror_mode": {
    "name": "ipython",
    "version": 3
   },
   "file_extension": ".py",
   "mimetype": "text/x-python",
   "name": "python",
   "nbconvert_exporter": "python",
   "pygments_lexer": "ipython3",
   "version": "3.10.6"
  }
 },
 "nbformat": 4,
 "nbformat_minor": 5
}
